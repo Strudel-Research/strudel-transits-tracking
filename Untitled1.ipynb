{
 "cells": [
  {
   "cell_type": "code",
   "execution_count": null,
   "metadata": {},
   "outputs": [],
   "source": [
    "from GAN_Interface_2 import GAN, Base_TrainingScheme\n",
    "\n",
    "def SimGAN_TrainingScheme(Base_TrainingScheme):\n",
    "    @staticmethod\n",
    "    def compile_discriminator(generator, discriminator, **kwargs):\n",
    "            \n",
    "    @staticmethod\n",
    "    def compile_generator(generator, discriminator, **kwargs):\n",
    "            raise NotImplementedError(\"Please Implement this method\")\n",
    "\n",
    "    @staticmethod\n",
    "    def train_discriminator(discriminator, x, y, batch_size, **kwargs):\n",
    "        raise NotImplementedError(\"Please Implement this method\")\n",
    "    \n",
    "    @staticmethod\n",
    "    def train_generator(generator, x, y, batch_size, **kwargs):\n",
    "        raise NotImplementedError(\"Please Implement this method\")\n"
   ]
  }
 ],
 "metadata": {
  "kernelspec": {
   "display_name": "Python (TF 1.1.0, Keras 2.0.8)",
   "language": "python",
   "name": "tf-1.1"
  },
  "language_info": {
   "codemirror_mode": {
    "name": "ipython",
    "version": 2
   },
   "file_extension": ".py",
   "mimetype": "text/x-python",
   "name": "python",
   "nbconvert_exporter": "python",
   "pygments_lexer": "ipython2",
   "version": "2.7.15"
  }
 },
 "nbformat": 4,
 "nbformat_minor": 2
}
